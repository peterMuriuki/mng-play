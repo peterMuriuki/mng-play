{
 "cells": [
  {
   "cell_type": "markdown",
   "id": "c979e503-1b5e-4796-b57d-e0c7360bb807",
   "metadata": {},
   "source": [
    "**Hello world definition**\n",
    "\n",
    "a function that prints `Hello World!`"
   ]
  },
  {
   "cell_type": "code",
   "execution_count": 1,
   "id": "eadc1df5-7442-4e62-977d-0c3cd36bc632",
   "metadata": {},
   "outputs": [
    {
     "name": "stdout",
     "output_type": "stream",
     "text": [
      "Hello World!\n"
     ]
    }
   ],
   "source": [
    "def hello_world():\n",
    "    print(\"Hello World!\")\n",
    "hello_world()"
   ]
  },
  {
   "cell_type": "code",
   "execution_count": 2,
   "id": "c9517ccd-edb2-4a3e-8466-7a548385e708",
   "metadata": {},
   "outputs": [
    {
     "name": "stdout",
     "output_type": "stream",
     "text": [
      "[NbConvertApp] Converting notebook hello-world.ipynb to html\n",
      "[NbConvertApp] Writing 271196 bytes to hello-world.html\n"
     ]
    }
   ],
   "source": [
    "!jupyter nbconvert --to html hello-world.ipynb"
   ]
  },
  {
   "cell_type": "code",
   "execution_count": null,
   "id": "1f4adb4d-6291-4cda-a0f5-492b18a9d1a4",
   "metadata": {},
   "outputs": [],
   "source": []
  }
 ],
 "metadata": {
  "kernelspec": {
   "display_name": "Python 3 (ipykernel)",
   "language": "python",
   "name": "python3"
  },
  "language_info": {
   "codemirror_mode": {
    "name": "ipython",
    "version": 3
   },
   "file_extension": ".py",
   "mimetype": "text/x-python",
   "name": "python",
   "nbconvert_exporter": "python",
   "pygments_lexer": "ipython3",
   "version": "3.11.5"
  }
 },
 "nbformat": 4,
 "nbformat_minor": 5
}
